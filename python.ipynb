{
  "nbformat": 4,
  "nbformat_minor": 0,
  "metadata": {
    "colab": {
      "provenance": []
    },
    "kernelspec": {
      "name": "python3",
      "display_name": "Python 3"
    },
    "language_info": {
      "name": "python"
    }
  },
  "cells": [
    {
      "cell_type": "code",
      "execution_count": null,
      "metadata": {
        "colab": {
          "base_uri": "https://localhost:8080/"
        },
        "id": "_XdzuOrcdAGk",
        "outputId": "8b8f6d97-a3b3-4ed2-ba16-de3930308250"
      },
      "outputs": [
        {
          "output_type": "stream",
          "name": "stdout",
          "text": [
            "hello world\n"
          ]
        }
      ],
      "source": [
        "print(\"hello world\")"
      ]
    },
    {
      "cell_type": "code",
      "source": [
        "\n",
        "\n",
        "list1=[\"hi\" , \"hello\",True,False,1,34]\n",
        "for name in list1:\n",
        "  print(name)\n",
        "print(list1)\n",
        "print(\"length of the list is \", len(list1))\n"
      ],
      "metadata": {
        "colab": {
          "base_uri": "https://localhost:8080/"
        },
        "id": "ENGr32EudTdU",
        "outputId": "1cae5d34-dbb0-4086-de0d-7f460fd3b657"
      },
      "execution_count": null,
      "outputs": [
        {
          "output_type": "stream",
          "name": "stdout",
          "text": [
            "hi\n",
            "hello\n",
            "True\n",
            "False\n",
            "1\n",
            "34\n",
            "['hi', 'hello', True, False, 1, 34]\n",
            "length of the list is  6\n"
          ]
        }
      ]
    },
    {
      "cell_type": "code",
      "source": [
        "tuple1=(\"apple\",\"hello\")\n",
        "print(tuple1)\n"
      ],
      "metadata": {
        "colab": {
          "base_uri": "https://localhost:8080/"
        },
        "id": "CgsBC9hcezp3",
        "outputId": "0a3ed648-9573-4425-cc20-d9ffb195517f"
      },
      "execution_count": null,
      "outputs": [
        {
          "output_type": "stream",
          "name": "stdout",
          "text": [
            "('apple', 'hello')\n"
          ]
        }
      ]
    },
    {
      "cell_type": "code",
      "source": [
        "#tuple is immutable "
      ],
      "metadata": {
        "id": "9lmYUg2wfYtj"
      },
      "execution_count": null,
      "outputs": []
    },
    {
      "cell_type": "code",
      "source": [
        "dict1={\n",
        "    \"fruit\":[\"apple\",\"banana\"],\n",
        "    \"year\":[22,\"2003\"]\n",
        "}\n",
        "print(dict1)"
      ],
      "metadata": {
        "colab": {
          "base_uri": "https://localhost:8080/"
        },
        "id": "Ei9zX-oOfdiW",
        "outputId": "7b9f2172-b3cb-42fa-949e-8fc17c3f9b7f"
      },
      "execution_count": null,
      "outputs": [
        {
          "output_type": "stream",
          "name": "stdout",
          "text": [
            "{'fruit': ['apple', 'banana'], 'year': [22, '2003']}\n"
          ]
        }
      ]
    },
    {
      "cell_type": "code",
      "source": [
        "dict1={\n",
        "    \"fruit\":[\"apple\",\"banana\"],\n",
        "    \"year\":[22,\"2003\"]\n",
        "}\n",
        "dict1.update({\"year\":[2021,2022]})\n",
        "print(dict1)\n"
      ],
      "metadata": {
        "colab": {
          "base_uri": "https://localhost:8080/"
        },
        "id": "Xdi8RdQef-Ji",
        "outputId": "90a8f0c9-fed5-465c-a1aa-832e2f68d18e"
      },
      "execution_count": null,
      "outputs": [
        {
          "output_type": "stream",
          "name": "stdout",
          "text": [
            "{'fruit': ['apple', 'banana'], 'year': [2021, 2022]}\n"
          ]
        }
      ]
    },
    {
      "cell_type": "code",
      "source": [
        "dict1={\n",
        "    \"fruit\":[\"apple\",\"banana\"],\n",
        "    \"year\":[22,\"2003\"]\n",
        "}\n",
        "for i in dict1.keys():\n",
        "  print(i)"
      ],
      "metadata": {
        "colab": {
          "base_uri": "https://localhost:8080/"
        },
        "id": "hmy52FvegJbu",
        "outputId": "0cd0fdd4-22b6-4cb3-8bdc-5c6864ccc4ad"
      },
      "execution_count": null,
      "outputs": [
        {
          "output_type": "stream",
          "name": "stdout",
          "text": [
            "fruit\n",
            "year\n"
          ]
        }
      ]
    },
    {
      "cell_type": "code",
      "source": [
        "dict1={\n",
        "    \"fruit\":[\"apple\",\"banana\"],\n",
        "    \"year\":[22,\"2003\"]\n",
        "}\n",
        "for i in dict1.values():\n",
        "  print(i)"
      ],
      "metadata": {
        "colab": {
          "base_uri": "https://localhost:8080/"
        },
        "id": "u8z_fbDKgtBu",
        "outputId": "15031f98-bfca-464f-9bf4-767a345decbb"
      },
      "execution_count": null,
      "outputs": [
        {
          "output_type": "stream",
          "name": "stdout",
          "text": [
            "['apple', 'banana']\n",
            "[22, '2003']\n"
          ]
        }
      ]
    },
    {
      "cell_type": "code",
      "source": [
        "myarray=[1,2,3,4,5,6,8,\"hello\"]\n",
        "print(myarray)\n",
        "for i in myarray:\n",
        "  print(i)\n",
        "print(\"length of the array\",len(myarray))\n",
        "myarray.append(7)\n",
        "print(myarray)\n",
        "myarray.remove(5)\n",
        "print(myarray)"
      ],
      "metadata": {
        "colab": {
          "base_uri": "https://localhost:8080/"
        },
        "id": "JBARWK-vg919",
        "outputId": "f165a42f-03b2-4496-8103-2401a025a20b"
      },
      "execution_count": null,
      "outputs": [
        {
          "output_type": "stream",
          "name": "stdout",
          "text": [
            "[1, 2, 3, 4, 5, 6, 8, 'hello']\n",
            "1\n",
            "2\n",
            "3\n",
            "4\n",
            "5\n",
            "6\n",
            "8\n",
            "hello\n",
            "length of the array 8\n",
            "[1, 2, 3, 4, 5, 6, 8, 'hello', 7]\n",
            "[1, 2, 3, 4, 6, 8, 'hello', 7]\n"
          ]
        }
      ]
    },
    {
      "cell_type": "code",
      "source": [
        "!pip install numpy\n"
      ],
      "metadata": {
        "colab": {
          "base_uri": "https://localhost:8080/"
        },
        "id": "_Uq7OC3mhSyC",
        "outputId": "dc1f5c4e-fe71-4bc3-e0b8-83a9b82e3f11"
      },
      "execution_count": null,
      "outputs": [
        {
          "output_type": "stream",
          "name": "stdout",
          "text": [
            "Looking in indexes: https://pypi.org/simple, https://us-python.pkg.dev/colab-wheels/public/simple/\n",
            "Requirement already satisfied: numpy in /usr/local/lib/python3.9/dist-packages (1.22.4)\n"
          ]
        }
      ]
    },
    {
      "cell_type": "code",
      "source": [
        "numpy -v"
      ],
      "metadata": {
        "colab": {
          "base_uri": "https://localhost:8080/",
          "height": 172
        },
        "id": "lZopWYt3jXtj",
        "outputId": "e5058508-0c82-49f2-dbe5-e16ba728f941"
      },
      "execution_count": null,
      "outputs": [
        {
          "output_type": "error",
          "ename": "NameError",
          "evalue": "ignored",
          "traceback": [
            "\u001b[0;31m---------------------------------------------------------------------------\u001b[0m",
            "\u001b[0;31mNameError\u001b[0m                                 Traceback (most recent call last)",
            "\u001b[0;32m<ipython-input-30-532b1bc511ab>\u001b[0m in \u001b[0;36m<cell line: 1>\u001b[0;34m()\u001b[0m\n\u001b[0;32m----> 1\u001b[0;31m \u001b[0mnumpy\u001b[0m \u001b[0;34m-\u001b[0m\u001b[0mv\u001b[0m\u001b[0;34m\u001b[0m\u001b[0;34m\u001b[0m\u001b[0m\n\u001b[0m",
            "\u001b[0;31mNameError\u001b[0m: name 'numpy' is not defined"
          ]
        }
      ]
    },
    {
      "cell_type": "code",
      "source": [
        "import numpy as np\n",
        "arr= np.array([1,2,3,4])\n",
        "print(arr)\n",
        "print(type(arr))\n",
        "print(arr.ndim)\n",
        "arr1=np.array(10)\n",
        "print(arr1.ndim)\n",
        "arr2=np.array([[1,2,4],[5,6,7]])\n",
        "print(arr2.ndim)\n",
        "print(\"element at index 2 is -\",arr[2])\n",
        "print(\"element at position (0,1) is - \",arr2[0,1])\n",
        "\n",
        "print(\"slicing the 1-n array-\",arr[2:5])\n",
        "print(\"negative slicing \",arr[-3:-1])\n"
      ],
      "metadata": {
        "colab": {
          "base_uri": "https://localhost:8080/"
        },
        "id": "493qscPGjcIe",
        "outputId": "3b977b22-2c35-4f51-89b2-5ad668f9553b"
      },
      "execution_count": null,
      "outputs": [
        {
          "output_type": "stream",
          "name": "stdout",
          "text": [
            "[1 2 3 4]\n",
            "<class 'numpy.ndarray'>\n",
            "1\n",
            "0\n",
            "2\n",
            "element at index 2 is - 3\n",
            "element at position (0,1) is -  2\n",
            "slicing the 1-n array- [3 4]\n",
            "negative slicing  [2 3]\n"
          ]
        }
      ]
    },
    {
      "cell_type": "code",
      "source": [
        "a=np.array([1,2,4,5,6,7,8,9])\n",
        "b=a.copy()\n",
        "b[0]=0\n",
        "print(a)\n",
        "print(b)\n",
        "c=a.view()\n",
        "c[0]=2\n",
        "print(a)\n",
        "print(c)"
      ],
      "metadata": {
        "colab": {
          "base_uri": "https://localhost:8080/"
        },
        "id": "d-yGmN0Uj1Ec",
        "outputId": "86db97e4-5494-4b8a-f0d6-4ddad6ece2e8"
      },
      "execution_count": null,
      "outputs": [
        {
          "output_type": "stream",
          "name": "stdout",
          "text": [
            "[1 2 4 5 6 7 8 9]\n",
            "[0 2 4 5 6 7 8 9]\n",
            "[2 2 4 5 6 7 8 9]\n",
            "[2 2 4 5 6 7 8 9]\n"
          ]
        }
      ]
    },
    {
      "cell_type": "code",
      "source": [
        "!pip install pandas\n",
        "\n",
        "\n",
        "import pandas as pd \n",
        "a=[1,2,3,4]\n",
        "ser=pd.Series(a)\n",
        "s=pd.Series(a,index=[\"one\",\"two\",\"three\",\"four\"])\n",
        "print(ser)\n",
        "print(s)"
      ],
      "metadata": {
        "colab": {
          "base_uri": "https://localhost:8080/"
        },
        "id": "SHtAWbe0l2X9",
        "outputId": "bbb8c2bb-4013-4912-cb97-c28855001bcc"
      },
      "execution_count": null,
      "outputs": [
        {
          "output_type": "stream",
          "name": "stdout",
          "text": [
            "Looking in indexes: https://pypi.org/simple, https://us-python.pkg.dev/colab-wheels/public/simple/\n",
            "Requirement already satisfied: pandas in /usr/local/lib/python3.9/dist-packages (1.5.3)\n",
            "Requirement already satisfied: python-dateutil>=2.8.1 in /usr/local/lib/python3.9/dist-packages (from pandas) (2.8.2)\n",
            "Requirement already satisfied: numpy>=1.20.3 in /usr/local/lib/python3.9/dist-packages (from pandas) (1.22.4)\n",
            "Requirement already satisfied: pytz>=2020.1 in /usr/local/lib/python3.9/dist-packages (from pandas) (2022.7.1)\n",
            "Requirement already satisfied: six>=1.5 in /usr/local/lib/python3.9/dist-packages (from python-dateutil>=2.8.1->pandas) (1.16.0)\n",
            "0    1\n",
            "1    2\n",
            "2    3\n",
            "3    4\n",
            "dtype: int64\n",
            "one      1\n",
            "two      2\n",
            "three    3\n",
            "four     4\n",
            "dtype: int64\n"
          ]
        }
      ]
    },
    {
      "cell_type": "code",
      "source": [],
      "metadata": {
        "id": "NjGMlk08mwOe"
      },
      "execution_count": null,
      "outputs": []
    },
    {
      "cell_type": "code",
      "source": [
        "import pandas as pd \n",
        "a=[1,2,3,4]\n",
        "ser=pd.Series(a)\n",
        "s=pd.Series(a,index=[\"one\",\"two\",\"three\",\"four\"])\n",
        "print(ser)\n",
        "print(s)\n",
        "print(\"Data at index two is - \",s[\"two\"])\n",
        "rains={\"first\":70,\"Second\":35}\n",
        "s1=pd.Series(rains)\n",
        "print(s1)"
      ],
      "metadata": {
        "colab": {
          "base_uri": "https://localhost:8080/"
        },
        "id": "WGA4cpkRnID-",
        "outputId": "73725240-e413-4f04-9c1b-065ec0bd58c7"
      },
      "execution_count": null,
      "outputs": [
        {
          "output_type": "stream",
          "name": "stdout",
          "text": [
            "0    1\n",
            "1    2\n",
            "2    3\n",
            "3    4\n",
            "dtype: int64\n",
            "one      1\n",
            "two      2\n",
            "three    3\n",
            "four     4\n",
            "dtype: int64\n",
            "Data at index two is -  2\n",
            "first     70\n",
            "Second    35\n",
            "dtype: int64\n"
          ]
        }
      ]
    },
    {
      "cell_type": "code",
      "source": [
        "data={\n",
        "    \"days\":[\"one\",\"two\",\"threee\"],\n",
        "    \"Rains\":[70,80,90]\n",
        "}\n",
        "df=pd.DataFrame(data,index=['a','b','c'])\n",
        "print(\"\\n\")\n",
        "\n",
        "print(df.loc[['a','c']])\n",
        "print(\"\\n\")\n",
        "print(df.iloc[1])"
      ],
      "metadata": {
        "colab": {
          "base_uri": "https://localhost:8080/"
        },
        "id": "Cj694uyRnI61",
        "outputId": "f504c35b-ee73-4186-b420-b46984e8ef8a"
      },
      "execution_count": null,
      "outputs": [
        {
          "output_type": "stream",
          "name": "stdout",
          "text": [
            "\n",
            "\n",
            "     days  Rains\n",
            "a     one     70\n",
            "c  threee     90\n",
            "\n",
            "\n",
            "days     two\n",
            "Rains     80\n",
            "Name: b, dtype: object\n"
          ]
        }
      ]
    },
    {
      "cell_type": "code",
      "source": [
        "my_dict = {'apple': 12, 'banana': 4, 'orange': 7}\n",
        "print(my_dict)\n",
        "sorted_dict={}\n",
        "len1=len(my_dict)\n",
        "val_s=list(my_dict.values())\n",
        "val_s.sort()\n",
        "for i in val_s:\n",
        "  for j in my_dict:\n",
        "    if(i==my_dict[j]):\n",
        "print(sorted(my_dict.keys()))  \n",
        "\n",
        "\n"
      ],
      "metadata": {
        "colab": {
          "base_uri": "https://localhost:8080/"
        },
        "id": "yCVnps3mpckK",
        "outputId": "a7498b22-65ac-41f8-ee58-7e6efabfaf73"
      },
      "execution_count": null,
      "outputs": [
        {
          "output_type": "stream",
          "name": "stdout",
          "text": [
            "{'apple': 12, 'banana': 4, 'orange': 7}\n",
            "['apple', 'banana', 'orange']\n"
          ]
        }
      ]
    },
    {
      "cell_type": "code",
      "source": [
        "list1=[3,4,5,6,7,8]\n",
        "for name in list1:\n",
        "  print(name)\n",
        "print(list1)\n",
        "list1.reverse()\n",
        "print(list1)"
      ],
      "metadata": {
        "colab": {
          "base_uri": "https://localhost:8080/"
        },
        "id": "gaqTfVHVq5cG",
        "outputId": "cc239afd-743e-4f0b-bead-88a42c25ac3a"
      },
      "execution_count": null,
      "outputs": [
        {
          "output_type": "stream",
          "name": "stdout",
          "text": [
            "3\n",
            "4\n",
            "5\n",
            "6\n",
            "7\n",
            "8\n",
            "[3, 4, 5, 6, 7, 8]\n",
            "[8, 7, 6, 5, 4, 3]\n"
          ]
        }
      ]
    },
    {
      "cell_type": "code",
      "source": [
        "#no of occurances of a string in list \n",
        "a= [\"MIT\",2,4,\"MIT\",\"MIT\"]\n",
        "count = 0\n",
        "for ele in a:\n",
        "  if (ele =='MIT'):\n",
        "    count = count + 1\n",
        "print(count)\n",
        "\n",
        "  \n"
      ],
      "metadata": {
        "colab": {
          "base_uri": "https://localhost:8080/"
        },
        "id": "scrWcy2Dso75",
        "outputId": "d4996c37-3f41-4541-cbcc-dd9bf44f94a9"
      },
      "execution_count": null,
      "outputs": [
        {
          "output_type": "stream",
          "name": "stdout",
          "text": [
            "3\n"
          ]
        }
      ]
    },
    {
      "cell_type": "code",
      "source": [
        "\n",
        "#matplot lib\n",
        "import matplotlib.pyplot as plt\n",
        "import numpy as np\n",
        "x=np.array([1,2,3,4])\n",
        "y=np.array([10,20,30,40])\n",
        "plt.plot(x,y,marker='o',linestyle='dotted')\n",
        "plt.grid()\n",
        "plt.bar(x,y)\n",
        "plt.show()\n",
        "\n",
        "#subplot\n"
      ],
      "metadata": {
        "colab": {
          "base_uri": "https://localhost:8080/",
          "height": 430
        },
        "id": "-7IY7hVuu6gq",
        "outputId": "996b9206-e8d0-4115-dd9d-676f4b81527e"
      },
      "execution_count": null,
      "outputs": [
        {
          "output_type": "display_data",
          "data": {
            "text/plain": [
              "<Figure size 640x480 with 1 Axes>"
            ],
            "image/png": "[encoded data removed]"
          },
          "metadata": {}
        }
      ]
    },
    {
      "cell_type": "code",
      "source": [
        "import numpy as np\n",
        "import matplotlib.pyplot as mpt"
      ],
      "metadata": {
        "id": "tjG9XPTKzAR5"
      },
      "execution_count": null,
      "outputs": []
    },
    {
      "cell_type": "code",
      "source": [
        "x=np.array([1,2,3,4,5,6,7,6,8])\n",
        "y=np.array([0,1,2,3,4,5,6,7,9])\n"
      ],
      "metadata": {
        "id": "AOahbnE_nyWO"
      },
      "execution_count": null,
      "outputs": []
    },
    {
      "cell_type": "code",
      "source": [
        "def reg_coeff(x,y) :\n",
        "  n=np.size(x)\n",
        "  m_x=np.mean(x)\n",
        "  m_y=np.mean(y)\n",
        "  SS_xy=np.sum(y*x)-n*m_y*m_x\n",
        "  SS_xx=np.sum(x*x)-n*m_x*m_x\n",
        "  b_1=SS_xy /SS_xx\n",
        "  b_0=m_y - b_1*m_x\n",
        "  return [b_0,b_1]"
      ],
      "metadata": {
        "id": "jnZ2U8tDoGRo"
      },
      "execution_count": null,
      "outputs": []
    },
    {
      "cell_type": "code",
      "source": [
        "#j=1/2mn summation(y-ymean)"
      ],
      "metadata": {
        "id": "WrsFNL1ko9Rv"
      },
      "execution_count": null,
      "outputs": []
    },
    {
      "cell_type": "code",
      "source": [
        "def plot_line(x,y,b) :\n",
        "  plt.scatter(x,y,color=\"m\",marker=\"o\",s=3)\n",
        "  y_pred=b[1]+b[0]*x\n",
        "  plt.plot(x,y+pred)"
      ],
      "metadata": {
        "id": "4GiGIpRt3pr8"
      },
      "execution_count": null,
      "outputs": []
    },
    {
      "cell_type": "code",
      "source": [
        "\n",
        "#cost function - a mathematical function that measures the difference between the predicted output of a model and the actual output.\n",
        "def cost(b) :\n",
        "  c=(1/(2*8))*np.sum((y-((b[0]*x)+b[1])**2))  \n",
        "  return c\n",
        "                     "
      ],
      "metadata": {
        "id": "oK1Syd0LpjZ1"
      },
      "execution_count": null,
      "outputs": []
    },
    {
      "cell_type": "code",
      "source": [
        "#gradiente descent - Gradient descent is an iterative optimization algorithm used in machine learning to minimize the cost function of a model by adjusting its parameters. it reduce any function\n",
        "def gradient(rate,itr) :\n",
        "  for i in range(itr) :\n",
        "    b[0]=b[0]-(rate*(1/8)*np.sum(x*abs(y-((b[0]*x)+b[1]))))    #diff with slope of graph \n",
        "    b[1]=b[1]-(rate*(1/8)*np.sum(abs(y-((b[0]*x)+b[1]))))        #ediff with const of graph   \n",
        "    return b"
      ],
      "metadata": {
        "id": "UazA2d6Mp_jf"
      },
      "execution_count": null,
      "outputs": []
    },
    {
      "cell_type": "code",
      "source": [
        "b=gradient(0.0000001,10000)\n",
        "plot_line(x,y,b)\n",
        "print(cost(b))"
      ],
      "metadata": {
        "colab": {
          "base_uri": "https://localhost:8080/",
          "height": 336
        },
        "id": "tV99Vta0xDpd",
        "outputId": "dde4f732-e58d-40af-fb19-8f484a9d2b5f"
      },
      "execution_count": null,
      "outputs": [
        {
          "output_type": "error",
          "ename": "TypeError",
          "evalue": "ignored",
          "traceback": [
            "\u001b[0;31m---------------------------------------------------------------------------\u001b[0m",
            "\u001b[0;31mTypeError\u001b[0m                                 Traceback (most recent call last)",
            "\u001b[0;32m<ipython-input-18-fcdf6fe29b80>\u001b[0m in \u001b[0;36m<cell line: 1>\u001b[0;34m()\u001b[0m\n\u001b[0;32m----> 1\u001b[0;31m \u001b[0mb\u001b[0m\u001b[0;34m=\u001b[0m\u001b[0mgradient\u001b[0m\u001b[0;34m(\u001b[0m\u001b[0;36m0.0000001\u001b[0m\u001b[0;34m,\u001b[0m\u001b[0;36m10000\u001b[0m\u001b[0;34m)\u001b[0m\u001b[0;34m\u001b[0m\u001b[0;34m\u001b[0m\u001b[0m\n\u001b[0m\u001b[1;32m      2\u001b[0m \u001b[0mplot_line\u001b[0m\u001b[0;34m(\u001b[0m\u001b[0mx\u001b[0m\u001b[0;34m,\u001b[0m\u001b[0my\u001b[0m\u001b[0;34m,\u001b[0m\u001b[0mb\u001b[0m\u001b[0;34m)\u001b[0m\u001b[0;34m\u001b[0m\u001b[0;34m\u001b[0m\u001b[0m\n\u001b[1;32m      3\u001b[0m \u001b[0mprint\u001b[0m\u001b[0;34m(\u001b[0m\u001b[0mcost\u001b[0m\u001b[0;34m(\u001b[0m\u001b[0mb\u001b[0m\u001b[0;34m)\u001b[0m\u001b[0;34m)\u001b[0m\u001b[0;34m\u001b[0m\u001b[0;34m\u001b[0m\u001b[0m\n",
            "\u001b[0;32m<ipython-input-11-2cb373eb806c>\u001b[0m in \u001b[0;36mgradient\u001b[0;34m(rate, itr)\u001b[0m\n\u001b[1;32m      2\u001b[0m \u001b[0;32mdef\u001b[0m \u001b[0mgradient\u001b[0m\u001b[0;34m(\u001b[0m\u001b[0mrate\u001b[0m\u001b[0;34m,\u001b[0m\u001b[0mitr\u001b[0m\u001b[0;34m)\u001b[0m \u001b[0;34m:\u001b[0m\u001b[0;34m\u001b[0m\u001b[0;34m\u001b[0m\u001b[0m\n\u001b[1;32m      3\u001b[0m   \u001b[0;32mfor\u001b[0m \u001b[0mi\u001b[0m \u001b[0;32min\u001b[0m \u001b[0mrange\u001b[0m\u001b[0;34m(\u001b[0m\u001b[0mitr\u001b[0m\u001b[0;34m)\u001b[0m \u001b[0;34m:\u001b[0m\u001b[0;34m\u001b[0m\u001b[0;34m\u001b[0m\u001b[0m\n\u001b[0;32m----> 4\u001b[0;31m     \u001b[0mb\u001b[0m\u001b[0;34m[\u001b[0m\u001b[0;36m0\u001b[0m\u001b[0;34m]\u001b[0m\u001b[0;34m=\u001b[0m\u001b[0mb\u001b[0m\u001b[0;34m[\u001b[0m\u001b[0;36m0\u001b[0m\u001b[0;34m]\u001b[0m\u001b[0;34m-\u001b[0m\u001b[0;34m(\u001b[0m\u001b[0mrate\u001b[0m\u001b[0;34m*\u001b[0m\u001b[0;34m(\u001b[0m\u001b[0;36m1\u001b[0m\u001b[0;34m/\u001b[0m\u001b[0;36m8\u001b[0m\u001b[0;34m)\u001b[0m\u001b[0;34m*\u001b[0m\u001b[0mnp\u001b[0m\u001b[0;34m.\u001b[0m\u001b[0msum\u001b[0m\u001b[0;34m(\u001b[0m\u001b[0mx\u001b[0m\u001b[0;34m*\u001b[0m\u001b[0mabs\u001b[0m\u001b[0;34m(\u001b[0m\u001b[0my\u001b[0m\u001b[0;34m-\u001b[0m\u001b[0;34m(\u001b[0m\u001b[0;34m(\u001b[0m\u001b[0mb\u001b[0m\u001b[0;34m[\u001b[0m\u001b[0;36m0\u001b[0m\u001b[0;34m]\u001b[0m\u001b[0;34m*\u001b[0m\u001b[0mx\u001b[0m\u001b[0;34m)\u001b[0m\u001b[0;34m+\u001b[0m\u001b[0mb\u001b[0m\u001b[0;34m[\u001b[0m\u001b[0;36m1\u001b[0m\u001b[0;34m]\u001b[0m\u001b[0;34m)\u001b[0m\u001b[0;34m)\u001b[0m\u001b[0;34m)\u001b[0m\u001b[0;34m)\u001b[0m\u001b[0;34m\u001b[0m\u001b[0;34m\u001b[0m\u001b[0m\n\u001b[0m\u001b[1;32m      5\u001b[0m     \u001b[0mb\u001b[0m\u001b[0;34m[\u001b[0m\u001b[0;36m1\u001b[0m\u001b[0;34m]\u001b[0m\u001b[0;34m=\u001b[0m\u001b[0mb\u001b[0m\u001b[0;34m[\u001b[0m\u001b[0;36m1\u001b[0m\u001b[0;34m]\u001b[0m\u001b[0;34m-\u001b[0m\u001b[0;34m(\u001b[0m\u001b[0mrate\u001b[0m\u001b[0;34m*\u001b[0m\u001b[0;34m(\u001b[0m\u001b[0;36m1\u001b[0m\u001b[0;34m/\u001b[0m\u001b[0;36m8\u001b[0m\u001b[0;34m)\u001b[0m\u001b[0;34m*\u001b[0m\u001b[0mnp\u001b[0m\u001b[0;34m.\u001b[0m\u001b[0msum\u001b[0m\u001b[0;34m(\u001b[0m\u001b[0mabs\u001b[0m\u001b[0;34m(\u001b[0m\u001b[0my\u001b[0m\u001b[0;34m-\u001b[0m\u001b[0;34m(\u001b[0m\u001b[0;34m(\u001b[0m\u001b[0mb\u001b[0m\u001b[0;34m[\u001b[0m\u001b[0;36m0\u001b[0m\u001b[0;34m]\u001b[0m\u001b[0;34m*\u001b[0m\u001b[0mx\u001b[0m\u001b[0;34m)\u001b[0m\u001b[0;34m+\u001b[0m\u001b[0mb\u001b[0m\u001b[0;34m[\u001b[0m\u001b[0;36m1\u001b[0m\u001b[0;34m]\u001b[0m\u001b[0;34m)\u001b[0m\u001b[0;34m)\u001b[0m\u001b[0;34m)\u001b[0m\u001b[0;34m)\u001b[0m\u001b[0;34m\u001b[0m\u001b[0;34m\u001b[0m\u001b[0m\n\u001b[1;32m      6\u001b[0m     \u001b[0;32mreturn\u001b[0m \u001b[0mcost\u001b[0m\u001b[0;34m(\u001b[0m\u001b[0mb\u001b[0m\u001b[0;34m)\u001b[0m\u001b[0;34m\u001b[0m\u001b[0;34m\u001b[0m\u001b[0m\n",
            "\u001b[0;31mTypeError\u001b[0m: 'int' object is not subscriptable"
          ]
        }
      ]
    },
    {
      "cell_type": "code",
      "source": [
        "#logistic regression\n",
        "import numpy as np\n",
        "import matplotlib .pyplot as plt\n"
      ],
      "metadata": {
        "id": "rvjOtkyP1kaH"
      },
      "execution_count": null,
      "outputs": []
    }
  ]
}